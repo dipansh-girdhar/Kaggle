{
  "cells": [
    {
      "metadata": {
        "_uuid": "8f2839f25d086af736a60e9eeb907d3b93b6e0e5",
        "_cell_guid": "b1076dfc-b9ad-4769-8c92-a6c4dae69d19",
        "trusted": true
      },
      "cell_type": "code",
      "source": "# This Python 3 environment comes with many helpful analytics libraries installed\n# It is defined by the kaggle/python docker image: https://github.com/kaggle/docker-python\n# For example, here's several helpful packages to load in \n\nimport numpy as np # linear algebra\nimport pandas as pd # data processing, CSV file I/O (e.g. pd.read_csv)\n\n# Input data files are available in the \"../input/\" directory.\n# For example, running this (by clicking run or pressing Shift+Enter) will list the files in the input directory\n\nimport os\nprint(os.listdir(\"../input\"))\n\n# Any results you write to the current directory are saved as output.",
      "execution_count": 19,
      "outputs": [
        {
          "output_type": "stream",
          "text": "['train_V2.csv', 'test_V2.csv', 'sample_submission_V2.csv']\n",
          "name": "stdout"
        }
      ]
    },
    {
      "metadata": {
        "_cell_guid": "79c7e3d0-c299-4dcb-8224-4455121ee9b0",
        "_uuid": "d629ff2d2480ee46fbb7e2d37f6b5fab8052498a",
        "trusted": true
      },
      "cell_type": "code",
      "source": "train=pd.read_csv(\"../input/train_V2.csv\")",
      "execution_count": 20,
      "outputs": []
    },
    {
      "metadata": {
        "trusted": true,
        "_uuid": "87415c2e80dbd10d3a0e471191cf63cd886c4f97"
      },
      "cell_type": "code",
      "source": "test=pd.read_csv(\"../input/test_V2.csv\")\ntest_data=test.copy()",
      "execution_count": 21,
      "outputs": []
    },
    {
      "metadata": {
        "trusted": true,
        "_uuid": "4e1a4ec7408648b56d1141536b6f790ad4fb6a0d"
      },
      "cell_type": "code",
      "source": "train_data=train.copy()",
      "execution_count": 22,
      "outputs": []
    },
    {
      "metadata": {
        "trusted": true,
        "_uuid": "14ad256e201284ac2651176894efa48d09d71733"
      },
      "cell_type": "code",
      "source": "train_data.head()",
      "execution_count": 23,
      "outputs": [
        {
          "output_type": "execute_result",
          "execution_count": 23,
          "data": {
            "text/plain": "               Id         groupId      ...      winPoints  winPlacePerc\n0  7f96b2f878858a  4d4b580de459be      ...           1466        0.4444\n1  eef90569b9d03c  684d5656442f9e      ...              0        0.6400\n2  1eaf90ac73de72  6a4a42c3245a74      ...              0        0.7755\n3  4616d365dd2853  a930a9c79cd721      ...              0        0.1667\n4  315c96c26c9aac  de04010b3458dd      ...              0        0.1875\n\n[5 rows x 29 columns]",
            "text/html": "<div>\n<style scoped>\n    .dataframe tbody tr th:only-of-type {\n        vertical-align: middle;\n    }\n\n    .dataframe tbody tr th {\n        vertical-align: top;\n    }\n\n    .dataframe thead th {\n        text-align: right;\n    }\n</style>\n<table border=\"1\" class=\"dataframe\">\n  <thead>\n    <tr style=\"text-align: right;\">\n      <th></th>\n      <th>Id</th>\n      <th>groupId</th>\n      <th>matchId</th>\n      <th>assists</th>\n      <th>boosts</th>\n      <th>damageDealt</th>\n      <th>DBNOs</th>\n      <th>headshotKills</th>\n      <th>heals</th>\n      <th>killPlace</th>\n      <th>killPoints</th>\n      <th>kills</th>\n      <th>killStreaks</th>\n      <th>longestKill</th>\n      <th>matchDuration</th>\n      <th>matchType</th>\n      <th>maxPlace</th>\n      <th>numGroups</th>\n      <th>rankPoints</th>\n      <th>revives</th>\n      <th>rideDistance</th>\n      <th>roadKills</th>\n      <th>swimDistance</th>\n      <th>teamKills</th>\n      <th>vehicleDestroys</th>\n      <th>walkDistance</th>\n      <th>weaponsAcquired</th>\n      <th>winPoints</th>\n      <th>winPlacePerc</th>\n    </tr>\n  </thead>\n  <tbody>\n    <tr>\n      <th>0</th>\n      <td>7f96b2f878858a</td>\n      <td>4d4b580de459be</td>\n      <td>a10357fd1a4a91</td>\n      <td>0</td>\n      <td>0</td>\n      <td>0.00</td>\n      <td>0</td>\n      <td>0</td>\n      <td>0</td>\n      <td>60</td>\n      <td>1241</td>\n      <td>0</td>\n      <td>0</td>\n      <td>0.00</td>\n      <td>1306</td>\n      <td>squad-fpp</td>\n      <td>28</td>\n      <td>26</td>\n      <td>-1</td>\n      <td>0</td>\n      <td>0.0000</td>\n      <td>0</td>\n      <td>0.00</td>\n      <td>0</td>\n      <td>0</td>\n      <td>244.80</td>\n      <td>1</td>\n      <td>1466</td>\n      <td>0.4444</td>\n    </tr>\n    <tr>\n      <th>1</th>\n      <td>eef90569b9d03c</td>\n      <td>684d5656442f9e</td>\n      <td>aeb375fc57110c</td>\n      <td>0</td>\n      <td>0</td>\n      <td>91.47</td>\n      <td>0</td>\n      <td>0</td>\n      <td>0</td>\n      <td>57</td>\n      <td>0</td>\n      <td>0</td>\n      <td>0</td>\n      <td>0.00</td>\n      <td>1777</td>\n      <td>squad-fpp</td>\n      <td>26</td>\n      <td>25</td>\n      <td>1484</td>\n      <td>0</td>\n      <td>0.0045</td>\n      <td>0</td>\n      <td>11.04</td>\n      <td>0</td>\n      <td>0</td>\n      <td>1434.00</td>\n      <td>5</td>\n      <td>0</td>\n      <td>0.6400</td>\n    </tr>\n    <tr>\n      <th>2</th>\n      <td>1eaf90ac73de72</td>\n      <td>6a4a42c3245a74</td>\n      <td>110163d8bb94ae</td>\n      <td>1</td>\n      <td>0</td>\n      <td>68.00</td>\n      <td>0</td>\n      <td>0</td>\n      <td>0</td>\n      <td>47</td>\n      <td>0</td>\n      <td>0</td>\n      <td>0</td>\n      <td>0.00</td>\n      <td>1318</td>\n      <td>duo</td>\n      <td>50</td>\n      <td>47</td>\n      <td>1491</td>\n      <td>0</td>\n      <td>0.0000</td>\n      <td>0</td>\n      <td>0.00</td>\n      <td>0</td>\n      <td>0</td>\n      <td>161.80</td>\n      <td>2</td>\n      <td>0</td>\n      <td>0.7755</td>\n    </tr>\n    <tr>\n      <th>3</th>\n      <td>4616d365dd2853</td>\n      <td>a930a9c79cd721</td>\n      <td>f1f1f4ef412d7e</td>\n      <td>0</td>\n      <td>0</td>\n      <td>32.90</td>\n      <td>0</td>\n      <td>0</td>\n      <td>0</td>\n      <td>75</td>\n      <td>0</td>\n      <td>0</td>\n      <td>0</td>\n      <td>0.00</td>\n      <td>1436</td>\n      <td>squad-fpp</td>\n      <td>31</td>\n      <td>30</td>\n      <td>1408</td>\n      <td>0</td>\n      <td>0.0000</td>\n      <td>0</td>\n      <td>0.00</td>\n      <td>0</td>\n      <td>0</td>\n      <td>202.70</td>\n      <td>3</td>\n      <td>0</td>\n      <td>0.1667</td>\n    </tr>\n    <tr>\n      <th>4</th>\n      <td>315c96c26c9aac</td>\n      <td>de04010b3458dd</td>\n      <td>6dc8ff871e21e6</td>\n      <td>0</td>\n      <td>0</td>\n      <td>100.00</td>\n      <td>0</td>\n      <td>0</td>\n      <td>0</td>\n      <td>45</td>\n      <td>0</td>\n      <td>1</td>\n      <td>1</td>\n      <td>58.53</td>\n      <td>1424</td>\n      <td>solo-fpp</td>\n      <td>97</td>\n      <td>95</td>\n      <td>1560</td>\n      <td>0</td>\n      <td>0.0000</td>\n      <td>0</td>\n      <td>0.00</td>\n      <td>0</td>\n      <td>0</td>\n      <td>49.75</td>\n      <td>2</td>\n      <td>0</td>\n      <td>0.1875</td>\n    </tr>\n  </tbody>\n</table>\n</div>"
          },
          "metadata": {}
        }
      ]
    },
    {
      "metadata": {
        "trusted": true,
        "_uuid": "570d7b021934f49ae245c386b1d3e75386a00bee"
      },
      "cell_type": "code",
      "source": "import matplotlib.pyplot as plt\nimport seaborn as sns",
      "execution_count": 24,
      "outputs": []
    },
    {
      "metadata": {
        "trusted": true,
        "_uuid": "b01038569de0470d3de132240fd723c9c5f51c48"
      },
      "cell_type": "code",
      "source": "def eda(data):\n    print(\"First five\")\n    print(data.head(5))\n    print(\"Information\")\n    print(data.info())\n    print(\"Data Types\")\n    print(data.dtypes)\n    print(\"Missing values\")\n    print(data.isnull().sum())\n    print(\"Null value\")\n    print(data.isna().sum())\n    print(\"Shape of Data\")\n    print(data.shape)\n    print(\"describe\")\n    print(data.describe())\n    print(\"tail\")\n    print(data.tail())",
      "execution_count": 25,
      "outputs": []
    },
    {
      "metadata": {
        "trusted": true,
        "_uuid": "e9fdbba5e0e785d2ac40ba3172ac7c99c22cc125",
        "scrolled": true
      },
      "cell_type": "code",
      "source": "eda(train_data)",
      "execution_count": 26,
      "outputs": [
        {
          "output_type": "stream",
          "text": "First five\n               Id         groupId      ...      winPoints  winPlacePerc\n0  7f96b2f878858a  4d4b580de459be      ...           1466        0.4444\n1  eef90569b9d03c  684d5656442f9e      ...              0        0.6400\n2  1eaf90ac73de72  6a4a42c3245a74      ...              0        0.7755\n3  4616d365dd2853  a930a9c79cd721      ...              0        0.1667\n4  315c96c26c9aac  de04010b3458dd      ...              0        0.1875\n\n[5 rows x 29 columns]\nInformation\n<class 'pandas.core.frame.DataFrame'>\nRangeIndex: 4446966 entries, 0 to 4446965\nData columns (total 29 columns):\nId                 object\ngroupId            object\nmatchId            object\nassists            int64\nboosts             int64\ndamageDealt        float64\nDBNOs              int64\nheadshotKills      int64\nheals              int64\nkillPlace          int64\nkillPoints         int64\nkills              int64\nkillStreaks        int64\nlongestKill        float64\nmatchDuration      int64\nmatchType          object\nmaxPlace           int64\nnumGroups          int64\nrankPoints         int64\nrevives            int64\nrideDistance       float64\nroadKills          int64\nswimDistance       float64\nteamKills          int64\nvehicleDestroys    int64\nwalkDistance       float64\nweaponsAcquired    int64\nwinPoints          int64\nwinPlacePerc       float64\ndtypes: float64(6), int64(19), object(4)\nmemory usage: 983.9+ MB\nNone\nData Types\nId                  object\ngroupId             object\nmatchId             object\nassists              int64\nboosts               int64\ndamageDealt        float64\nDBNOs                int64\nheadshotKills        int64\nheals                int64\nkillPlace            int64\nkillPoints           int64\nkills                int64\nkillStreaks          int64\nlongestKill        float64\nmatchDuration        int64\nmatchType           object\nmaxPlace             int64\nnumGroups            int64\nrankPoints           int64\nrevives              int64\nrideDistance       float64\nroadKills            int64\nswimDistance       float64\nteamKills            int64\nvehicleDestroys      int64\nwalkDistance       float64\nweaponsAcquired      int64\nwinPoints            int64\nwinPlacePerc       float64\ndtype: object\nMissing values\nId                 0\ngroupId            0\nmatchId            0\nassists            0\nboosts             0\ndamageDealt        0\nDBNOs              0\nheadshotKills      0\nheals              0\nkillPlace          0\nkillPoints         0\nkills              0\nkillStreaks        0\nlongestKill        0\nmatchDuration      0\nmatchType          0\nmaxPlace           0\nnumGroups          0\nrankPoints         0\nrevives            0\nrideDistance       0\nroadKills          0\nswimDistance       0\nteamKills          0\nvehicleDestroys    0\nwalkDistance       0\nweaponsAcquired    0\nwinPoints          0\nwinPlacePerc       1\ndtype: int64\nNull value\nId                 0\ngroupId            0\nmatchId            0\nassists            0\nboosts             0\ndamageDealt        0\nDBNOs              0\nheadshotKills      0\nheals              0\nkillPlace          0\nkillPoints         0\nkills              0\nkillStreaks        0\nlongestKill        0\nmatchDuration      0\nmatchType          0\nmaxPlace           0\nnumGroups          0\nrankPoints         0\nrevives            0\nrideDistance       0\nroadKills          0\nswimDistance       0\nteamKills          0\nvehicleDestroys    0\nwalkDistance       0\nweaponsAcquired    0\nwinPoints          0\nwinPlacePerc       1\ndtype: int64\nShape of Data\n(4446966, 29)\ndescribe\n            assists        boosts      ...          winPoints  winPlacePerc\ncount  4.446966e+06  4.446966e+06      ...       4.446966e+06  4.446965e+06\nmean   2.338149e-01  1.106908e+00      ...       6.064601e+02  4.728216e-01\nstd    5.885731e-01  1.715794e+00      ...       7.397004e+02  3.074050e-01\nmin    0.000000e+00  0.000000e+00      ...       0.000000e+00  0.000000e+00\n25%    0.000000e+00  0.000000e+00      ...       0.000000e+00  2.000000e-01\n50%    0.000000e+00  0.000000e+00      ...       0.000000e+00  4.583000e-01\n75%    0.000000e+00  2.000000e+00      ...       1.495000e+03  7.407000e-01\nmax    2.200000e+01  3.300000e+01      ...       2.013000e+03  1.000000e+00\n\n[8 rows x 25 columns]\ntail\n                     Id         groupId      ...      winPoints  winPlacePerc\n4446961  afff7f652dbc10  d238e426f50de7      ...           1507        0.1786\n4446962  f4197cf374e6c0  408cdb5c46b2ac      ...              0        0.2935\n4446963  e1948b1295c88a  e26ac84bdf7cef      ...              0        0.4815\n4446964  cc032cdd73b7ac  c2223f35411394      ...              0        0.8000\n4446965  0d8e7ed728b6fd  8c74f72fedf5ff      ...              0        0.5464\n\n[5 rows x 29 columns]\n",
          "name": "stdout"
        }
      ]
    },
    {
      "metadata": {
        "trusted": true,
        "_uuid": "3ea7edaf2be49122fddeab5c8a9c9a41b83e1f20",
        "collapsed": true
      },
      "cell_type": "code",
      "source": "train_data[train_data['winPlacePerc'].isnull()]",
      "execution_count": 27,
      "outputs": [
        {
          "output_type": "execute_result",
          "execution_count": 27,
          "data": {
            "text/plain": "                     Id         groupId      ...      winPoints  winPlacePerc\n2744604  f70c74418bb064  12dfbede33f92b      ...              0           NaN\n\n[1 rows x 29 columns]",
            "text/html": "<div>\n<style scoped>\n    .dataframe tbody tr th:only-of-type {\n        vertical-align: middle;\n    }\n\n    .dataframe tbody tr th {\n        vertical-align: top;\n    }\n\n    .dataframe thead th {\n        text-align: right;\n    }\n</style>\n<table border=\"1\" class=\"dataframe\">\n  <thead>\n    <tr style=\"text-align: right;\">\n      <th></th>\n      <th>Id</th>\n      <th>groupId</th>\n      <th>matchId</th>\n      <th>assists</th>\n      <th>boosts</th>\n      <th>damageDealt</th>\n      <th>DBNOs</th>\n      <th>headshotKills</th>\n      <th>heals</th>\n      <th>killPlace</th>\n      <th>killPoints</th>\n      <th>kills</th>\n      <th>killStreaks</th>\n      <th>longestKill</th>\n      <th>matchDuration</th>\n      <th>matchType</th>\n      <th>maxPlace</th>\n      <th>numGroups</th>\n      <th>rankPoints</th>\n      <th>revives</th>\n      <th>rideDistance</th>\n      <th>roadKills</th>\n      <th>swimDistance</th>\n      <th>teamKills</th>\n      <th>vehicleDestroys</th>\n      <th>walkDistance</th>\n      <th>weaponsAcquired</th>\n      <th>winPoints</th>\n      <th>winPlacePerc</th>\n    </tr>\n  </thead>\n  <tbody>\n    <tr>\n      <th>2744604</th>\n      <td>f70c74418bb064</td>\n      <td>12dfbede33f92b</td>\n      <td>224a123c53e008</td>\n      <td>0</td>\n      <td>0</td>\n      <td>0.0</td>\n      <td>0</td>\n      <td>0</td>\n      <td>0</td>\n      <td>1</td>\n      <td>0</td>\n      <td>0</td>\n      <td>0</td>\n      <td>0.0</td>\n      <td>9</td>\n      <td>solo-fpp</td>\n      <td>1</td>\n      <td>1</td>\n      <td>1574</td>\n      <td>0</td>\n      <td>0.0</td>\n      <td>0</td>\n      <td>0.0</td>\n      <td>0</td>\n      <td>0</td>\n      <td>0.0</td>\n      <td>0</td>\n      <td>0</td>\n      <td>NaN</td>\n    </tr>\n  </tbody>\n</table>\n</div>"
          },
          "metadata": {}
        }
      ]
    },
    {
      "metadata": {
        "trusted": true,
        "_uuid": "390497db30ef7b12b41abbd483cca0b3761d2560"
      },
      "cell_type": "code",
      "source": "train_data.drop(2744604, inplace=True)",
      "execution_count": 28,
      "outputs": []
    },
    {
      "metadata": {
        "trusted": true,
        "_uuid": "d63c415eed2e2db7f82c1a36204000ddd41fb215"
      },
      "cell_type": "code",
      "source": "sns.lineplot(x=\"winPlacePerc\", y=\"kills\", data=train_data)",
      "execution_count": 29,
      "outputs": [
        {
          "output_type": "stream",
          "text": "/opt/conda/lib/python3.6/site-packages/scipy/stats/stats.py:1713: FutureWarning: Using a non-tuple sequence for multidimensional indexing is deprecated; use `arr[tuple(seq)]` instead of `arr[seq]`. In the future this will be interpreted as an array index, `arr[np.array(seq)]`, which will result either in an error or a different result.\n  return np.add.reduce(sorted[indexer] * weights, axis=axis) / sumval\n",
          "name": "stderr"
        },
        {
          "output_type": "execute_result",
          "execution_count": 29,
          "data": {
            "text/plain": "<matplotlib.axes._subplots.AxesSubplot at 0x7f03e2a32ef0>"
          },
          "metadata": {}
        },
        {
          "output_type": "display_data",
          "data": {
            "text/plain": "<Figure size 432x288 with 1 Axes>",
            "image/png": "[encoded data removed]"
          },
          "metadata": {
            "needs_background": "light"
          }
        }
      ]
    },
    {
      "metadata": {
        "trusted": true,
        "_uuid": "166154ed9c0708f1a98286cb886157495ed12d38"
      },
      "cell_type": "code",
      "source": "useless_features = ['Id', 'groupId', 'matchId']",
      "execution_count": 30,
      "outputs": []
    },
    {
      "metadata": {
        "trusted": true,
        "_uuid": "71e8c7ad34cd4ab67354ab0b36fc883191ee65ec"
      },
      "cell_type": "code",
      "source": "for df in [train_data, test_data]:\n    df.drop(useless_features, axis=1, inplace=True)",
      "execution_count": null,
      "outputs": []
    },
    {
      "metadata": {
        "trusted": true,
        "_uuid": "c954ac6f552e401758ba21b2c7a4d5235ecfa199"
      },
      "cell_type": "code",
      "source": "",
      "execution_count": null,
      "outputs": []
    }
  ],
  "metadata": {
    "kernelspec": {
      "display_name": "Python 3",
      "language": "python",
      "name": "python3"
    },
    "language_info": {
      "name": "python",
      "version": "3.6.6",
      "mimetype": "text/x-python",
      "codemirror_mode": {
        "name": "ipython",
        "version": 3
      },
      "pygments_lexer": "ipython3",
      "nbconvert_exporter": "python",
      "file_extension": ".py"
    }
  },
  "nbformat": 4,
  "nbformat_minor": 1
}